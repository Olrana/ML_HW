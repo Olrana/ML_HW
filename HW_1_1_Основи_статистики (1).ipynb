{
 "cells": [
  {
   "cell_type": "markdown",
   "metadata": {
    "id": "SDhaTqxcWhnP"
   },
   "source": [
    "В цьому домашньому завданні відпрацюємо з вами знання, отримані в модулі зі статистики.\n",
    "\n",
    "**Завдання 1.** Ми обговорили з Вами на лекції, що велика літера Сігма грецького алфавіту позначає в математиці суму. Знайдіть з використанням Python $\\Sigma x$, $\\Sigma x^2$, та $\\Sigma (x-1)^2$ для наступного набору даних:\n",
    "`1 3 4`\n",
    "Виведіть результат кожного обчислення на екран."
   ]
  },
  {
   "cell_type": "code",
   "execution_count": 361,
   "metadata": {
    "id": "B1mgx_IBT0e8"
   },
   "outputs": [],
   "source": [
    "data_set_1 = [1,3,4]"
   ]
  },
  {
   "cell_type": "code",
   "execution_count": 363,
   "metadata": {},
   "outputs": [
    {
     "data": {
      "text/plain": [
       "'Σx = 8'"
      ]
     },
     "metadata": {},
     "output_type": "display_data"
    },
    {
     "data": {
      "text/plain": [
       "'Σx^2 = 26'"
      ]
     },
     "metadata": {},
     "output_type": "display_data"
    },
    {
     "data": {
      "text/plain": [
       "'Σ(x-1)^2 = 3'"
      ]
     },
     "metadata": {},
     "output_type": "display_data"
    }
   ],
   "source": [
    "sigma = sum(data_set_1)\n",
    "sigma_sqr = sum(x**2 for x in data_set_1)\n",
    "sigma_x_minus_1 = sum((x-1)^2 for x in data_set_1)\n",
    "\n",
    "display(\n",
    "    f\"Σx = {sigma}\",\n",
    "    f\"Σx^2 = {sigma_sqr}\",\n",
    "    f\"Σ(x-1)^2 = {sigma_x_minus_1}\"\n",
    "    )\n"
   ]
  },
  {
   "cell_type": "markdown",
   "metadata": {
    "id": "fa78aW5lhiia"
   },
   "source": [
    "**Завдання 2.** Ми зібрали дані про суму покупок в гривнях 20ма випадково обраними клієнтами в нашому магазині (всього клієнтів у нас більше) за минулий місяць. Вони представлені в змінній `sum_purchases`. Знайдіть **вибіркове середнє** для цих даних кожним з зазначених методів:   \n",
    "\n",
    "  2.1. без використання жодних бібліотек, користуючись тільки Python.  \n",
    "  2.2. використовуючи відповідний метод бібліотеки `numpy`.\n",
    "\n",
    "  Виведіть результат обчислень в кожному з випадків на екран та порівняйте результати. Вони співпадають?"
   ]
  },
  {
   "cell_type": "code",
   "execution_count": 366,
   "metadata": {
    "id": "_9kMt3rq6V5m"
   },
   "outputs": [],
   "source": [
    "sum_purchases = [ 316,  493,  367,  153,  224,  121,  322,  450,  196,  397,  281,\n",
    "  239,  484,  124,  223,  448,  432,  255, 4310, 3524]"
   ]
  },
  {
   "cell_type": "code",
   "execution_count": 401,
   "metadata": {
    "id": "wPmL919HT1c0"
   },
   "outputs": [],
   "source": [
    "mean_without_lib = sum(sum_purchases)/len(sum_purchases)"
   ]
  },
  {
   "cell_type": "code",
   "execution_count": 370,
   "metadata": {},
   "outputs": [
    {
     "name": "stdout",
     "output_type": "stream",
     "text": [
      "Результати збігаються\n"
     ]
    }
   ],
   "source": [
    "import numpy as np\n",
    "\n",
    "mean_with_lib = np.mean(sum_purchases)\n",
    "\n",
    "if mean_without_lib == mean_with_lib:\n",
    "    result = \"Результати збігаються\"\n",
    "else:\n",
    "    result = \"Реузльтати відрізняються\"\n",
    "\n",
    "calc_mean =  (\n",
    "    f\"Обчислення без використання додаткових бібліотек: {mean_without_lib}\\n\" \n",
    "    f\" Обчислення з використанням бібліотеки numpy: {mean_with_lib}\\n\"\n",
    ")\n",
    "\n",
    "print(result)"
   ]
  },
  {
   "cell_type": "markdown",
   "metadata": {
    "id": "FMdoxZd0kZdW"
   },
   "source": [
    "**Завдання 3.** Для того ж набору даних в змінній `sum_purchases` обчисліть **медіану** кожним з зазначених методів:  \n",
    "\n",
    "  3.1. без використання жодних бібліотек, користуючись тільки Python.  \n",
    "  3.2. використовуючи відповідний метод бібліотеки numpy.  \n",
    "\n",
    "Виведіть результат обчислень в кожному з випадків на екран. Порівняйте результати зі значенням вибіркового середнього. Напишіть коментар, для яких задач ви б використовували вибіркове середнє, а для яких - медіану?"
   ]
  },
  {
   "cell_type": "code",
   "execution_count": 373,
   "metadata": {
    "id": "x58BumvuT2nl"
   },
   "outputs": [],
   "source": [
    "sorted_data = sorted(sum_purchases)\n",
    "n = len(sum_purchases)\n",
    "\n",
    "if n%2 == 0:\n",
    "    median_without_lib = (sorted_data[n//2 - 1] + sorted_data[n//2])/2\n",
    "else: \n",
    "    median = sorted_data[n//2]/2"
   ]
  },
  {
   "cell_type": "code",
   "execution_count": 375,
   "metadata": {},
   "outputs": [],
   "source": [
    "median_with_lib = np.median(sum_purchases)\n",
    "\n",
    "calc_median = (\n",
    "    f\"Обчислення без використання додаткових бібліотек: {median_without_lib}\\n\"\n",
    "    f\" Обчислення з використанням бібліотеки numpy: {median_with_lib}\\n\"\n",
    ")\n"
   ]
  },
  {
   "cell_type": "code",
   "execution_count": 377,
   "metadata": {},
   "outputs": [
    {
     "name": "stdout",
     "output_type": "stream",
     "text": [
      "Значення середнього вибіркового:\n",
      " Обчислення без використання додаткових бібліотек: 667.95\n",
      " Обчислення з використанням бібліотеки numpy: 667.95\n",
      "\n",
      " Значення медіани:\n",
      " Обчислення без використання додаткових бібліотек: 319.0\n",
      " Обчислення з використанням бібліотеки numpy: 319.0\n",
      "\n"
     ]
    }
   ],
   "source": [
    "print(\n",
    "    f\"Значення середнього вибіркового:\\n {calc_mean}\\n\",\n",
    "    f\"Значення медіани:\\n {calc_median}\"\n",
    ")"
   ]
  },
  {
   "cell_type": "markdown",
   "metadata": {},
   "source": [
    "    Вибіркове середнє є більш корисним, коли необхідно отримати загальнеуявлення про середні значення набору даних та коли дані нормально розподілені.\n",
    "\n",
    "    Медіана корисна, коли є значні викиди в даних, так як медіана не чутлива до них, або коли дані є асиметричиними."
   ]
  },
  {
   "cell_type": "markdown",
   "metadata": {
    "id": "o1Z7az2yNDQV"
   },
   "source": [
    "**Завдання 4**. Обчислість стандартне відхилення наведеної вибірки в змінній `sum_purchases` кожним з зазначених методів:  \n",
    "\n",
    "  4.1. без використання жодних бібліотек, користуючись тільки Python.  \n",
    "  4.2. використовуючи відповідний метод бібліотеки numpy.  \n",
    "\n",
    "Виведіть результат обчислень в кожному з випадків на екран."
   ]
  },
  {
   "cell_type": "code",
   "execution_count": 381,
   "metadata": {
    "id": "X4ixtmL2T642"
   },
   "outputs": [],
   "source": [
    "std_without_lib = (1 / (n - 1) * sum((x - mean_without_lib) ** 2 for x in sum_purchases)) ** 0.5"
   ]
  },
  {
   "cell_type": "code",
   "execution_count": 383,
   "metadata": {},
   "outputs": [],
   "source": [
    "std_with_lib = np.std(sum_purchases, ddof =1)"
   ]
  },
  {
   "cell_type": "code",
   "execution_count": 385,
   "metadata": {},
   "outputs": [
    {
     "name": "stdout",
     "output_type": "stream",
     "text": [
      "Стандартне відхилення без бібліотек: 1124.54\n",
      "Стандартне відхилення з NumPy: 1124.54\n"
     ]
    }
   ],
   "source": [
    "print(f\"Стандартне відхилення без бібліотек: {round(std_without_lib, 2)}\")\n",
    "print(f\"Стандартне відхилення з NumPy: {round(std_with_lib, 2)}\")"
   ]
  },
  {
   "cell_type": "markdown",
   "metadata": {
    "id": "M1ntKTjXLVlH"
   },
   "source": [
    "**Завдання 5**. Ми провели дослідження віку студентів-першокурсників. Виявилось, що\n",
    "- 10 студентів мають вік 16 років\n",
    "- 25 студентів - 17 років\n",
    "- 20 студентів - 18 років\n",
    "- 2 студенти - 20 років\n",
    "\n",
    "Обчислість середнє значення для цієї вибірки будь-яким способом - на чистому Python або з numpy - та виведіть результат на екран."
   ]
  },
  {
   "cell_type": "code",
   "execution_count": 388,
   "metadata": {
    "id": "RdIU4M-7T8R4"
   },
   "outputs": [
    {
     "name": "stdout",
     "output_type": "stream",
     "text": [
      "Середній вік студентів: 17.0 років\n"
     ]
    }
   ],
   "source": [
    "ages = np.array([16, 17, 18, 20])  \n",
    "frequencies = np.array([10, 25, 20, 2]) \n",
    "\n",
    "average_age_np = np.average(ages, weights=frequencies)\n",
    "\n",
    "print(f\"Середній вік студентів: {round(average_age_np, 0)} років\")"
   ]
  },
  {
   "cell_type": "markdown",
   "metadata": {
    "id": "Xx8MFkkVM53z"
   },
   "source": [
    "**Завдання 6**. Крім даних про суму покупок, ми зібрали ще дані про кількість відвідувань кожного з кожного покупця, які знаходяться в змінній `visits`. Обчисліть коефіцієнт кореляції Пірсона для суми покупок і кількості відвідувань кожним з зазначених методів:  \n",
    "\n",
    "  6.1. без використання жодних бібліотек, користуючись тільки Python.  \n",
    "  6.2. використовуючи відповідний метод бібліотеки numpy.  \n",
    "  \n",
    "Виведіть результат на екран. Проаналізуйте результат.\n",
    "\n",
    "Виведіть додатково графік розсіювання викликавши код нижче і зробіть заключення, чи варто щось змінити при підрахунку кореляції, аби коефіцієнт Пірсона показував коректну оцінку лінійної залежності?"
   ]
  },
  {
   "cell_type": "code",
   "execution_count": 391,
   "metadata": {
    "id": "4OIGBT7UOWhO"
   },
   "outputs": [],
   "source": [
    "visits = [ 6,  2, 10,  3,  9,  9,  2,  3,  6,  6, 10,  2,  5, 10,  3,  5,  4,\n",
    "        7,  4,  2]"
   ]
  },
  {
   "cell_type": "code",
   "execution_count": 415,
   "metadata": {
    "id": "YLNF7VbeT97Q"
   },
   "outputs": [],
   "source": [
    "k = len(visits)\n",
    "mean_visits_without_lib = sum(visits)/k\n",
    "std_without_lib_y = (1 / (k - 1) * sum((y - mean_visits_without_lib) ** 2 for y in visits)) ** 0.5"
   ]
  },
  {
   "cell_type": "code",
   "execution_count": 417,
   "metadata": {},
   "outputs": [],
   "source": [
    "covariance = (1 / (n - 1)) * sum((x - mean_without_lib) * (y - mean_visits_without_lib) for x, y in zip(sum_purchases, visits))"
   ]
  },
  {
   "cell_type": "code",
   "execution_count": 421,
   "metadata": {},
   "outputs": [
    {
     "data": {
      "text/plain": [
       "-0.3026584468766646"
      ]
     },
     "execution_count": 421,
     "metadata": {},
     "output_type": "execute_result"
    }
   ],
   "source": [
    "pearson_coef_without_lib = covariance/(std_without_lib* std_without_lib_y)\n",
    "pearson_coef_without_lib"
   ]
  },
  {
   "cell_type": "code",
   "execution_count": 427,
   "metadata": {},
   "outputs": [
    {
     "data": {
      "text/plain": [
       "array([[ 1.        , -0.30265845],\n",
       "       [-0.30265845,  1.        ]])"
      ]
     },
     "execution_count": 427,
     "metadata": {},
     "output_type": "execute_result"
    }
   ],
   "source": [
    "pearson_coef_with_lib  = np.corrcoef(sum_purchases, visits)\n",
    "pearson_coef_with_lib"
   ]
  },
  {
   "cell_type": "code",
   "execution_count": 429,
   "metadata": {
    "colab": {
     "base_uri": "https://localhost:8080/",
     "height": 472
    },
    "id": "gaeoGA-5Prr1",
    "outputId": "0c910a7f-0e96-449a-881d-1efa453b3c8d"
   },
   "outputs": [
    {
     "data": {
      "image/png": "[encoded data removed]",
      "text/plain": [
       "<Figure size 640x480 with 1 Axes>"
      ]
     },
     "metadata": {},
     "output_type": "display_data"
    }
   ],
   "source": [
    "import matplotlib.pyplot as plt\n",
    "\n",
    "plt.scatter(sum_purchases, visits)\n",
    "plt.title('Scatter Plot of Purchases vs. Visits')\n",
    "plt.xlabel('Sum of Purchases')\n",
    "plt.ylabel('Number of Visits');"
   ]
  },
  {
   "cell_type": "markdown",
   "metadata": {},
   "source": [
    "Так як значення ближче до 0 чим до 1 або -1, можна зробити висновок, що лінійна залежність або дуже слабка, або взагалі відсутня. В цьому можна переконатись додатково побудуваввши графік розсіювання, де також наглядно видно, що чітка лінійна структура відсутня.\n",
    "\n",
    "Можливо, тут варто змінити підхід, адже тут може бути  нелінйна залежність між змінними, і в такому разі Коефіцієнт Пірсона є не найкращим підходом. Або позбутися викидів, і розглянути повторно вже без них."
   ]
  },
  {
   "cell_type": "markdown",
   "metadata": {
    "id": "4pEg0KzSQ6KA"
   },
   "source": [
    "**Завдання 7**. В попередньому завданні ми помітили, що викиди нам заважають отримати \"правдиве\" значення кореляції. Давайте вилучимо записи, які відповідають значенням з викидами в сумі покупок і обчисліть коеф. кореляції. Для цього поставте `threshold`, який дорінює середньому значенню + 2 стандартних вдіхилля суми покупок і всі значення, які більше за нього, будемо вважати викидами (є і інші правила для визначення викидів - з ним и познайомимось пізніше).\n",
    "\n",
    "Вилучіть значення з обох масивів і обчисліть коеф. кореляції Пірсона з допомогою `numpy` для кількості візитів і суми покупок без записів-викидів. Виведіть результат на екран, побудуйте діаграму розсіювання і проаналізуйте результат: що можемо сказати про залежність в даних?"
   ]
  },
  {
   "cell_type": "code",
   "execution_count": 435,
   "metadata": {
    "id": "Yj3Yfaf7UBbc"
   },
   "outputs": [
    {
     "name": "stdout",
     "output_type": "stream",
     "text": [
      "Коефіцієнт кореляції Пірсона після вилучення викидів: 0.995\n"
     ]
    },
    {
     "data": {
      "image/png": "[encoded data removed]",
      "text/plain": [
       "<Figure size 640x480 with 1 Axes>"
      ]
     },
     "metadata": {},
     "output_type": "display_data"
    }
   ],
   "source": [
    "threshold = mean_with_lib + 2 * std_with_lib\n",
    "\n",
    "filtered_sum_purchases = sum_purchases[sum_purchases <= threshold]\n",
    "filtered_visits = visits[sum_purchases <= threshold]\n",
    "\n",
    "correlation_coefficient_filtered = np.corrcoef(filtered_sum_purchases, filtered_visits)[0, 1]\n",
    "\n",
    "print(f\"Коефіцієнт кореляції Пірсона після вилучення викидів: {round(correlation_coefficient_filtered, 3)}\")\n",
    "\n",
    "plt.scatter(filtered_sum_purchases, filtered_visits)\n",
    "plt.title('Графік розсіювання: Сума покупок та Кількість відвідувань (без викидів)')\n",
    "plt.xlabel('Сума покупок')\n",
    "plt.ylabel('Кількість відвідувань')\n",
    "plt.show()\n"
   ]
  },
  {
   "cell_type": "markdown",
   "metadata": {},
   "source": [
    "Після вилучення викидів коефіцієнт кореляції змінився в бік більш чіткої лінійної залежності, що підтверджує, що викиди могли спотворювати попередні результати. В порівнянні з попереднім отриманим значенням (-0.302 при аналізі даних з викидами), було отримано значення 0.995, що вже дуже близько до 1, та говорить нам про сильну лінійну залежність між змінними. Також це помітно на графіку розсіювання."
   ]
  }
 ],
 "metadata": {
  "colab": {
   "provenance": []
  },
  "kernelspec": {
   "display_name": "Python [conda env:base] *",
   "language": "python",
   "name": "conda-base-py"
  },
  "language_info": {
   "codemirror_mode": {
    "name": "ipython",
    "version": 3
   },
   "file_extension": ".py",
   "mimetype": "text/x-python",
   "name": "python",
   "nbconvert_exporter": "python",
   "pygments_lexer": "ipython3",
   "version": "3.12.7"
  }
 },
 "nbformat": 4,
 "nbformat_minor": 4
}
